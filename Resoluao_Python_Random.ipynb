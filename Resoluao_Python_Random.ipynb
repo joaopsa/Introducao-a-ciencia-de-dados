{
 "cells": [
  {
   "cell_type": "markdown",
   "metadata": {},
   "source": [
    "# Introdução à Ciência de Dados - UFPB\n",
    "Professor: Yuri Malheiros\n",
    "\n",
    "Aluno: João Pedro Soares de Araújo\n",
    "\n",
    "Matrícula: 20180036295\n",
    "## Python - Random - Exercício"
   ]
  },
  {
   "cell_type": "markdown",
   "metadata": {},
   "source": [
    "Implemente a função `generate_password` que deve gerar uma senha aleatória.\n",
    "\n",
    "A função tem tres parâmetros:\n",
    "\n",
    "- `n_chars` especifica o tamanho da senha gerada\n",
    "- `use_numbers` especifica se números podem ser usados na senha. Por padrão, esse parâmetro tem valor True\n",
    "- `use_special_chars` especifica se caracteres especiais, por exemplo !#%&@?, pode ser usados na senha. Por padrão, esse parâmetro tem valor True\n",
    "\n",
    "Note que se `use_numbers` e `use_special_chars` tiverem valor False, a senha terá apenas letras maiúsculas ou minúsculas."
   ]
  },
  {
   "cell_type": "code",
   "execution_count": 1,
   "metadata": {},
   "outputs": [],
   "source": [
    "import string\n",
    "import random\n",
    "\n",
    "def generate_password(n_chars, use_numbers=True, use_special_chars=True):\n",
    "    \n",
    "    letras = string.ascii_lowercase\n",
    "    caracteres = string.punctuation\n",
    "    numeros = string.digits\n",
    "    password = \"\"\n",
    "    \n",
    "    \n",
    "    if((use_numbers == True) and (use_special_chars == True)):\n",
    "        for i in range(n_chars):\n",
    "            draw_letras = random.choice(letras)\n",
    "            draw_caracteres = random.choice(caracteres)\n",
    "            draw_numeros = random.choice(numeros)\n",
    "            roster = [draw_letras,draw_caracteres,draw_numeros]\n",
    "            aleatory = random.randrange(0,len(roster))\n",
    "            password += roster[aleatory]\n",
    "            \n",
    "            \n",
    "    elif((use_numbers == False) and (use_special_chars == True)):\n",
    "        for i in range(n_chars):\n",
    "            draw_letras = random.choice(letras)\n",
    "            draw_caracteres = random.choice(caracteres)\n",
    "            roster = [draw_letras,draw_caracteres]\n",
    "            aleatory = random.randrange(0,len(roster))\n",
    "            password += roster[aleatory]\n",
    "    \n",
    "    \n",
    "    else:\n",
    "        for i in range(n_chars):\n",
    "            draw_letras = random.choice(letras)\n",
    "            roster = [draw_letras]\n",
    "            aleatory = random.randrange(0,len(roster))\n",
    "            password += roster[aleatory]\n",
    "            \n",
    "            \n",
    "    return password"
   ]
  },
  {
   "cell_type": "code",
   "execution_count": 8,
   "metadata": {},
   "outputs": [
    {
     "name": "stdout",
     "output_type": "stream",
     "text": [
      "!sq1<f=|9z\n",
      "nr@|y(]vj|\n",
      "ounrnjvooq\n"
     ]
    }
   ],
   "source": [
    "print(generate_password(10))\n",
    "print(generate_password(10, use_numbers=False))\n",
    "print(generate_password(10, use_numbers=False, use_special_chars=False))"
   ]
  }
 ],
 "metadata": {
  "kernelspec": {
   "display_name": "Python 3",
   "language": "python",
   "name": "python3"
  },
  "language_info": {
   "codemirror_mode": {
    "name": "ipython",
    "version": 3
   },
   "file_extension": ".py",
   "mimetype": "text/x-python",
   "name": "python",
   "nbconvert_exporter": "python",
   "pygments_lexer": "ipython3",
   "version": "3.8.5"
  }
 },
 "nbformat": 4,
 "nbformat_minor": 4
}
